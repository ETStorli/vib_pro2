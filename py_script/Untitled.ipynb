{
 "cells": [
  {
   "cell_type": "markdown",
   "metadata": {},
   "source": [
    "**Gruppemedlemmer:** Sindre Vie Jørgensen, Viktor Mikalsen, Even Tobias Storli og Kasper Voogt Arvesen\n",
    "# Prosjekt 2: TMA4320\n",
    "* **Innleveringsfrist:** Mandag 9. mars, 2020, kl 1400\n",
    "\n"
   ]
  },
  {
   "cell_type": "code",
   "execution_count": 1,
   "metadata": {},
   "outputs": [],
   "source": [
    "import matplotlib.pyplot as plt\n",
    "import numpy as np\n",
    "import numpy.linalg as la\n",
    "import scipy as sp\n",
    "import random as rn\n",
    "from numba import jit, njit, vectorize\n",
    "from spirals import get_data_spiral_2d\n",
    "\n",
    "###########################################################################################################\n",
    "                        #Variabler\n",
    "    \n",
    "h = 0.1"
   ]
  },
  {
   "cell_type": "markdown",
   "metadata": {},
   "source": [
    "**Hjelpefunksjoner: Def av variabler for $Y_0$ og $Y_{k+1}$**"
   ]
  },
  {
   "cell_type": "code",
   "execution_count": 2,
   "metadata": {},
   "outputs": [],
   "source": [
    "##############################################################################\n",
    "                    #Def av variabler for Y_0 og Y_k1\n",
    "\n",
    "def eta(x):\n",
    "    eta = 1/2 * (1 + np.tanh(x/2))\n",
    "    return eta\n",
    "\n",
    "def sigma(x):              #Tror denne er unødvendig vi trenger denne ettersom sigma kun er np.tanh\n",
    "    sigma = np.tanh(x)\n",
    "    return sigma\n",
    "\n",
    "def big_z(eta, mat_y, omega, my, d):        #funk er ikke ferdig, noe mer må gjøres med mat_y\n",
    "    big_z = eta(x)*(mat_y.transpose()*omega + my*np.eye(d, k=0))    #numpy.eye(a, b) lager en axa matrise hvor subdiagonal/diag b er 1 og resten 0. Nå er diagonalen 1.\n",
    "    return big_z\n",
    "\n",
    "def big_j(big_z, c):            #Fungerer for numpy arrays\n",
    "    c = -1*c\n",
    "    big_j = 0.5*la.norm(np.add(big_z, c))**2\n",
    "    return big_j\n",
    "\n"
   ]
  },
  {
   "cell_type": "markdown",
   "metadata": {},
   "source": [
    "**Definisjon av $Y_0$ og $Y_{k+1}$**"
   ]
  },
  {
   "cell_type": "code",
   "execution_count": null,
   "metadata": {},
   "outputs": [],
   "source": []
  }
 ],
 "metadata": {
  "kernelspec": {
   "display_name": "Python 3",
   "language": "python",
   "name": "python3"
  },
  "language_info": {
   "codemirror_mode": {
    "name": "ipython",
    "version": 3
   },
   "file_extension": ".py",
   "mimetype": "text/x-python",
   "name": "python",
   "nbconvert_exporter": "python",
   "pygments_lexer": "ipython3",
   "version": "3.7.4"
  }
 },
 "nbformat": 4,
 "nbformat_minor": 2
}
