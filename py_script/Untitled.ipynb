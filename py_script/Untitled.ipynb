{
 "cells": [
  {
   "cell_type": "markdown",
   "metadata": {},
   "source": [
    "**Gruppe:** 0420                   \n",
    "\n",
    "**Gruppemedlemmer:** 10114, 10035, 10102, 10038\n",
    "# Prosjekt 2: TMA4320\n",
    "* **Innleveringsfrist:** Mandag 9. mars, 2020, kl 1400\n",
    "\n"
   ]
  },
  {
   "cell_type": "code",
   "execution_count": 1,
   "metadata": {},
   "outputs": [],
   "source": [
    "import matplotlib.pyplot as plt\n",
    "import numpy as np\n",
    "import numpy.linalg as la\n",
    "import scipy as sp\n",
    "import random as rn\n",
    "from numba import jit, njit, vectorize\n",
    "from spirals import get_data_spiral_2d\n",
    "\n",
    "###########################################################################################################\n",
    "                        #Variabler\n",
    "    \n",
    "h = 0.1"
   ]
  },
  {
   "cell_type": "markdown",
   "metadata": {},
   "source": [
    "**Hjelpefunksjoner: Def av variabler for $Y_0$ og $Y_{k+1}$**"
   ]
  },
  {
   "cell_type": "code",
   "execution_count": 2,
   "metadata": {},
   "outputs": [],
   "source": [
    "##############################################################################\n",
    "                    #Def av variabler for Y_0 og Y_k1\n",
    "\n",
    "def eta(x):\n",
    "    eta = 1/2 * (1 + np.tanh(x/2))\n",
    "    return eta\n",
    "\n",
    "def sigma(x):              #Tror denne er unødvendig vi trenger denne ettersom sigma kun er np.tanh\n",
    "    sigma = np.tanh(x)\n",
    "    return sigma\n",
    "\n",
    "def big_z(eta, mat_y, omega, my, d):        #funk er ikke ferdig, noe mer må gjøres med mat_y\n",
    "    big_z = eta(x)*(mat_y.transpose()*omega + my*np.eye(d, k=0))    #numpy.eye(a, b) lager en axa matrise hvor subdiagonal/diag b er 1 og resten 0. Nå er diagonalen 1.\n",
    "    return big_z\n",
    "\n",
    "def big_j(big_z, c):            #Fungerer for numpy arrays\n",
    "    c = -1*c\n",
    "    big_j = 0.5*la.norm(np.add(big_z, c))**2\n",
    "    return big_j\n",
    "\n"
   ]
  },
  {
   "cell_type": "markdown",
   "metadata": {},
   "source": [
    "**Definisjon av $Y_0$ og $Y_{k+1}$**"
   ]
  },
  {
   "cell_type": "code",
   "execution_count": null,
   "metadata": {},
   "outputs": [],
   "source": [
    "def y0():\n",
    "    \"\"\"Lager en array av spirals, med gitt posisjon til true og false\n",
    "    Returns:\n",
    "        np.array -- arr[0] = [xpos, ypos] til false; arr[1] -- pos til True\n",
    "    \"\"\"\n",
    "    pos, bol = sp.get_data_spiral_2d(I)\n",
    "    posx, posy= pos[0], pos[1]\n",
    "\n",
    "    xTrue = np.zeros(sum(bol))\n",
    "    yTure = np.zeros(sum(bol))\n",
    "    xFalse = np.zeros_like(xTrue)\n",
    "    yFalse = np.zeros_like(xTrue)\n",
    "    r = 0\n",
    "    b_i = 0\n",
    "    for idx, b in enumerate(bol):\n",
    "        if b:\n",
    "            xTrue[r] = posx[idx]\n",
    "            yTure[r] = posy[idx]\n",
    "            r += 1\n",
    "        else:\n",
    "            xFalse[b_i] = posx[idx]\n",
    "            yFalse[b_i] = posy[idx]\n",
    "            b_i += 1\n",
    "        C = [False if x<len(xFalse) else True for x in range(len(xFalse) + len(xTrue))]\n",
    "    X = np.append(xFalse, xTrue)\n",
    "    Y = np.append(yFalse, yTure)\n",
    "    Z = np.vstack((X, Y))\n",
    "    return np.array((np.array((xFalse, yFalse)), np.array((xTrue, yTure)))), C, Z\n",
    "\n",
    "\n",
    "\n",
    "def YK(Y0, K = K, sigma = sigma, h = h, Wk = Wk, bk = bk):\n",
    "    Y_out = np.random.rand(K, d, I)\n",
    "    Y = Y0\n",
    "    for k in range(K):\n",
    "        X = Wk[k] @ Y\n",
    "        # bk er en kolonnevektor fra b, men leses som radvektor etter at vi har hentet den ut. Derfor transponerer vi\n",
    "        # Vi ganger med I for å få en matrise, som etter å ha transponert, blir en matrise med I bk-kolonnevektorer. Må gjøre det slik for at adderingen skal funke\n",
    "        X = X + np.array([bk[:, k]] * I).transpose()      #bk[:, k] leses: alle rader, i kolonne k. Henter altså ut kolonnevektor k fra matrisen bk\n",
    "        Y_out[k] = Y + h*sigma(X)\n",
    "        Y = Y_out[k]\n",
    "    return Y_out"
   ]
  },
  {
   "cell_type": "markdown",
   "metadata": {},
   "source": [
    "**Gradientberegninger og Adams algorithm:**"
   ]
  },
  {
   "cell_type": "code",
   "execution_count": null,
   "metadata": {},
   "outputs": [],
   "source": []
  },
  {
   "cell_type": "markdown",
   "metadata": {},
   "source": [
    "**Funksjonen med while loop som gjør kalkulasjonene for spiraleksemplet samt MINST - treningen:**"
   ]
  },
  {
   "cell_type": "code",
   "execution_count": null,
   "metadata": {},
   "outputs": [],
   "source": []
  },
  {
   "cell_type": "markdown",
   "metadata": {},
   "source": [
    "**Plot som viser startspiral samt sluttsortering av testoppgave 1:**"
   ]
  },
  {
   "cell_type": "code",
   "execution_count": null,
   "metadata": {},
   "outputs": [],
   "source": []
  },
  {
   "cell_type": "markdown",
   "metadata": {},
   "source": [
    "**Resultater fra MINST treningen:**"
   ]
  },
  {
   "cell_type": "code",
   "execution_count": null,
   "metadata": {},
   "outputs": [],
   "source": []
  }
 ],
 "metadata": {
  "kernelspec": {
   "display_name": "Python 3",
   "language": "python",
   "name": "python3"
  },
  "language_info": {
   "codemirror_mode": {
    "name": "ipython",
    "version": 3
   },
   "file_extension": ".py",
   "mimetype": "text/x-python",
   "name": "python",
   "nbconvert_exporter": "python",
   "pygments_lexer": "ipython3",
   "version": "3.7.4"
  }
 },
 "nbformat": 4,
 "nbformat_minor": 2
}
