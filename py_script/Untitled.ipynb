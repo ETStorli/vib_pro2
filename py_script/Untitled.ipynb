{
 "cells": [
  {
   "cell_type": "markdown",
   "metadata": {},
   "source": [
    "**Gruppe:** 0420                   \n",
    "\n",
    "**Gruppemedlemmer:** 10114, 10035, 10102, 10038\n",
    "# Prosjekt 2: TMA4320\n",
    "* **Innleveringsfrist:** Mandag 9. mars, 2020, kl 1400\n",
    "\n"
   ]
  },
  {
   "cell_type": "code",
   "execution_count": 1,
   "metadata": {},
   "outputs": [],
   "source": [
    "import matplotlib.pyplot as plt\n",
    "import numpy as np\n",
    "import numpy.linalg as la\n",
    "import scipy as sp\n",
    "import loader as ld\n",
    "import spirals as sp\n",
    "from plotting import plot_progression, plot_model, plot_separation\n",
    "import random as rn\n",
    "\n",
    "rng = np.random.randn\n",
    "\n",
    "################################################################################################\n",
    "                        #Variabler\n",
    "\n",
    "K = 15   # Antall lag\n",
    "d = 2    # Antall piksel-elementer til hvert bilde. Hvert bilde er stablet opp i en vektor av lengde d\n",
    "I = 200  # Antall bilder\n",
    "h = 0.1  # Skrittlengde i transformasjonene\n",
    "Wk = rng(K, d, d)\n",
    "w = rng(d)\n",
    "mu = rng(1)\n",
    "one = np.ones(I)\n",
    "bk = rng(d, K)\n",
    "U0 = np.array ((Wk, bk, w, mu))\n",
    "y0, C1 = sp.get_data_spiral_2d(I)\n",
    "C = np.reshape(C1, I)"
   ]
  },
  {
   "cell_type": "markdown",
   "metadata": {},
   "source": [
    "**Hjelpefunksjoner: Def av variabler for $Y_0$ og $Y_{k+1}$**"
   ]
  },
  {
   "cell_type": "code",
   "execution_count": 2,
   "metadata": {},
   "outputs": [],
   "source": [
    "\n",
    "def eta(x): return 1 / 2 * (1 + np.tanh(x / 2))\n",
    "def d_eta(x): return (1-(np.tanh(x/2))**2)/4\n",
    "\n",
    "def sigma(x): return np.tanh(x)\n",
    "def d_sigma(x): return 1 - (np.tanh(x))**2\n",
    "\n",
    "def Z(x, omega, mu): return eta(np.transpose(x) @ omega + mu * one)  # x = siste Y_K\n"
   ]
  },
  {
   "cell_type": "markdown",
   "metadata": {},
   "source": [
    "**Definisjon av $Y_0$ og $Y_{k+1}$**"
   ]
  },
  {
   "cell_type": "code",
   "execution_count": 3,
   "metadata": {},
   "outputs": [],
   "source": [
    "def YK(y0, K=K, sigma=sigma, h=h, Wk=Wk, bk=bk):\n",
    "    Y_out = np.random.rand(K, d, I)\n",
    "    Y = y0\n",
    "    Y_out[0] = y0\n",
    "    for k in range (1, K):\n",
    "        # bk er en kolonnevektor fra b, men leses som radvektor etter at vi har hentet den ut. Derfor transponerer vi\n",
    "        # Vi ganger med I for å få en matrise, som etter å ha transponert, blir en matrise med I bk-kolonnevektorer.\n",
    "        # Må gjøre det slik for at adderingen skal funke\n",
    "        # bk[:, k] leses: alle rader, i kolonne k. Henter altså ut kolonnevektor k fra matrisen bk\n",
    "        X = Wk[k] @ Y + np.array([bk[:, k]] * I).transpose()\n",
    "        Y_out[k] = Y + h * sigma(X)\n",
    "        Y = Y_out[k]\n",
    "    return Y_out"
   ]
  },
  {
   "cell_type": "markdown",
   "metadata": {},
   "source": [
    "**Gradientberegninger, optimering og Adams algorithm:**"
   ]
  },
  {
   "cell_type": "code",
   "execution_count": 4,
   "metadata": {},
   "outputs": [],
   "source": [
    "def gradient(wk, bk, w, mu, y, c):\n",
    "    j_mu = d_eta(np.transpose(np.transpose(y[-1])@ w + mu * one)) @ (Z(y[-1], w, mu) - c)\n",
    "    j_omega = y[-1] @ ((Z(y[-1], w, mu) - c) * d_eta(np.transpose(np.transpose(y[-1])@ w + mu * one)))\n",
    "    p_k = np.outer(w, (np.transpose((Z(y[-1], w, mu) - c) * d_eta(np.transpose(np.transpose(y[-1])@ w + mu * one)))))\n",
    "    arr_Pk = np.array([p_k])\n",
    "    for i in range(1, K):\n",
    "        p_k_min = np.array([np.array(arr_Pk[-i] + h * np.transpose(wk[-i-1]) @ (d_sigma(wk[-i-1]@y[-i-1] + np.transpose(np.array([bk[:, -i-1]]*I))) * arr_Pk[-i]))])\n",
    "        arr_Pk = np.vstack((p_k_min, arr_Pk))\n",
    "    j_wk = np.array([h*(arr_Pk[1] * (d_sigma(wk[0] @ y[0] + np.transpose(np.array([bk[:, 0]]*I))))) @ np.transpose(y[0])])\n",
    "    j_bk = np.array(h*(arr_Pk[1] * (d_sigma(wk[0] @ y[0] + np.transpose(np.array([bk[:, 0]]*I))))) @ one)\n",
    "    for j in range(1, K-1):\n",
    "        j_wk_plus = np.array([h*(arr_Pk[j+1] * (d_sigma(wk[j] @ y[j] + np.transpose(np.array([bk[:, j]]*I))))) @ np.transpose(y[j])])\n",
    "        j_wk = np.vstack((j_wk, j_wk_plus))\n",
    "        j_bk_plus = np.array(h*(arr_Pk[j+1] * (d_sigma(wk[j] @ y[j] + np.transpose(np.array([bk[:, j]]*I))))) @ one)\n",
    "        j_bk = np.vstack((j_bk, j_bk_plus))\n",
    "\n",
    "    return j_wk, j_bk, j_omega, j_mu\n",
    "\n",
    "\n",
    "\n",
    "def optimering(grad_U, U_j):  # Returnerer de oppdaterte parameterene for neste iterasjon\n",
    "    tau = .04\n",
    "    for i in range (K - 1):\n",
    "        U_j[0][i] = U_j[0][i] - tau * grad_U[0][i]\n",
    "        U_j[1][:, i] = U_j[1][:, i] - tau * grad_U[1][i]\n",
    "    U_j[2] = U_j[2] - tau * grad_U[2]\n",
    "    U_j[3] = U_j[3] - tau * grad_U[3]\n",
    "    return U_j\n"
   ]
  },
  {
   "cell_type": "markdown",
   "metadata": {},
   "source": [
    "**Funksjonen med while loop som gjør kalkulasjonene for spiraleksemplet samt MINST - treningen:**"
   ]
  },
  {
   "cell_type": "code",
   "execution_count": 5,
   "metadata": {},
   "outputs": [],
   "source": [
    "def algoritme(N, grad, y0=y0, C=C, K=K, sigma=sigma, h=h, Wk=Wk, bk=bk, w=w, mu=mu, C1 = C1):\n",
    "    j = 0\n",
    "    while j < N:\n",
    "        C, Y0 = C, y0\n",
    "        Yk = YK (Y0, K, sigma, h, Wk, bk)  # Array med K Yk matriser, kjører bildene igjennom alle lagene ved funk. YK\n",
    "        d_Wk, d_bk, d_w, d_mu = grad(Wk, bk, w, mu, Yk, C)  # Regner ut gradieinten for parametrene våre\n",
    "        Wk, bk, w, mu = optimering ([d_Wk, d_bk, d_w, d_mu], [Wk, bk, w, mu])  # Oppdaterer parametrene vhp. u_j\n",
    "        #print(\"wk, \", Wk,\"bk: \", bk, \"w: \", w, \"my, \",  mu)\n",
    "        j += 1\n",
    "    arr_z = Z(Yk[-1], w, mu)\n",
    "    return Yk, Wk, bk, w, mu, arr_z\n",
    "\n",
    "Y_K, Wk, bk, w, mu, arr_z = algoritme(40000, gradient, y0, C, K, sigma, h, Wk, bk, w, mu)\n"
   ]
  },
  {
   "cell_type": "markdown",
   "metadata": {},
   "source": [
    "**Plot som viser startspiral samt sluttsortering av testoppgave 1:**"
   ]
  },
  {
   "cell_type": "code",
   "execution_count": 6,
   "metadata": {},
   "outputs": [
    {
     "data": {
      "image/png": "[encoded data removed]",
      "text/plain": [
       "<Figure size 432x288 with 1 Axes>"
      ]
     },
     "metadata": {
      "needs_background": "light"
     },
     "output_type": "display_data"
    }
   ],
   "source": [
    "def foreward_function(x):\n",
    "    N = 1000\n",
    "    return algoritme(N, grad=gradient, y0 = x, C=C, K=K, sigma=sigma, h=h, Wk=Wk, bk=bk, w=w, mu=mu, C1=C1)\n",
    "\n",
    "def last_function(x, w=w, mu=mu):\n",
    "    return eta(np.transpose(x) @ w + mu * np.ones(40000))  # x = siste Y_K)\n",
    "\n",
    "#mkarray(Y_K, Wk, bk, w, mu, \"40k_iterasoner_blårød\")\n",
    "\n",
    "#plot_progression(Y_K, np.transpose(C1))\n",
    "#plot_model(foreward_function, Y_K[0], np.transpose(C1), 200)\n",
    "plot_separation(last_function,Y_K[-1,:,:],C1,I)"
   ]
  },
  {
   "cell_type": "markdown",
   "metadata": {},
   "source": [
    "**Resultater fra MINST treningen:**"
   ]
  },
  {
   "cell_type": "code",
   "execution_count": null,
   "metadata": {},
   "outputs": [],
   "source": []
  }
 ],
 "metadata": {
  "kernelspec": {
   "display_name": "Python 3",
   "language": "python",
   "name": "python3"
  },
  "language_info": {
   "codemirror_mode": {
    "name": "ipython",
    "version": 3
   },
   "file_extension": ".py",
   "mimetype": "text/x-python",
   "name": "python",
   "nbconvert_exporter": "python",
   "pygments_lexer": "ipython3",
   "version": "3.7.4"
  }
 },
 "nbformat": 4,
 "nbformat_minor": 2
}
